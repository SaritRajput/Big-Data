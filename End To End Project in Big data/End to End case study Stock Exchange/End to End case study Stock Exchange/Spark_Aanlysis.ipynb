{
 "cells": [
  {
   "cell_type": "code",
   "execution_count": 1,
   "id": "dec38aed",
   "metadata": {},
   "outputs": [],
   "source": [
    "# # **Loading Hive Tables and Data Preparation for Analysis**\n",
    "\n",
    "import pyspark.sql.functions as F\n",
    "from pyspark.sql.window import Window\n",
    "from pyspark.sql.types import *\n",
    "from pyspark.sql.functions import * \n",
    "from pyspark.sql import SparkSession"
   ]
  },
  {
   "cell_type": "code",
   "execution_count": 3,
   "id": "1e0e0c0a",
   "metadata": {},
   "outputs": [],
   "source": [
    "spark = SparkSession.builder.appName(\"Stock Analysis\").config(\n",
    "    \"spark.ui.port\", \"0\").config(\n",
    "        \"spark.sql.catalogImplementation=hive\").config(\n",
    "        \"spark.sql.warehouse.dir\",\n",
    "        \"hdfs://nameservice1/user/itv003722/warehouse\").config(\n",
    "            \"spark.serializer\",\n",
    "    \"org.apache.spark.serializer.KryoSerializer\").enableHiveSupport().getOrCreate()\n",
    "spark.sparkContext.setLogLevel('OFF')"
   ]
  },
  {
   "cell_type": "code",
   "execution_count": 4,
   "id": "ed9e1e95",
   "metadata": {},
   "outputs": [],
   "source": [
    "SA = spark.table('bdsh_project.stock_detail')"
   ]
  },
  {
   "cell_type": "code",
   "execution_count": 5,
   "id": "e969caca",
   "metadata": {},
   "outputs": [],
   "source": [
    "SA.createOrReplaceTempView('SA')"
   ]
  },
  {
   "cell_type": "code",
   "execution_count": 6,
   "id": "b3d8418a",
   "metadata": {},
   "outputs": [
    {
     "name": "stdout",
     "output_type": "stream",
     "text": [
      "+----+-----+------+--------------------+-----------+-----------+--------------------+-----+-----+-----+-----+--------+\n",
      "|year|month|symbol|         companyname|      state|     sector|        sub_industry| open|close|  low| high|  volume|\n",
      "+----+-----+------+--------------------+-----------+-----------+--------------------+-----+-----+-----+-----+--------+\n",
      "|2010|    1|     A|Agilent Technolog...| California|Health Care|Health Care Equip...|20.69|20.05|19.97|20.87| 5923000|\n",
      "|2010|    1|     A|Agilent Technolog...| California|Health Care|Health Care Equip...|20.84|20.52|20.38|21.01| 4937100|\n",
      "|2010|    1|     A|Agilent Technolog...| California|Health Care|Health Care Equip...|20.89|20.87|20.55|20.95| 4362100|\n",
      "|2010|    1|     A|Agilent Technolog...| California|Health Care|Health Care Equip...|21.01|20.95|20.73| 21.1| 2696800|\n",
      "|2010|    1|     A|Agilent Technolog...| California|Health Care|Health Care Equip...|21.04|21.07|20.91|21.21| 3608500|\n",
      "|2010|    1|     A|Agilent Technolog...| California|Health Care|Health Care Equip...|21.71|20.87|20.81|21.71| 4263000|\n",
      "|2010|    1|     A|Agilent Technolog...| California|Health Care|Health Care Equip...|21.72|22.03|21.71|22.05| 3563600|\n",
      "|2010|    1|     A|Agilent Technolog...| California|Health Care|Health Care Equip...| 21.8|21.95|21.49|22.02| 3418900|\n",
      "|2010|    1|     A|Agilent Technolog...| California|Health Care|Health Care Equip...|21.84|21.91| 21.6|21.94| 4589000|\n",
      "|2010|    1|     A|Agilent Technolog...| California|Health Care|Health Care Equip...|21.86|21.78|21.62|21.92| 2871000|\n",
      "|2010|    1|     A|Agilent Technolog...| California|Health Care|Health Care Equip...|21.88|22.28|21.82|22.35| 6163700|\n",
      "|2010|    1|     A|Agilent Technolog...| California|Health Care|Health Care Equip...|21.92|22.03|21.75|22.07| 3733900|\n",
      "|2010|    1|     A|Agilent Technolog...| California|Health Care|Health Care Equip...|22.02|22.04|21.82|22.05| 3095100|\n",
      "|2010|    1|     A|Agilent Technolog...| California|Health Care|Health Care Equip...|22.07|22.07| 22.0|22.17| 3243700|\n",
      "|2010|    1|     A|Agilent Technolog...| California|Health Care|Health Care Equip...|22.09|22.05|21.94|22.21| 4781500|\n",
      "|2010|    1|     A|Agilent Technolog...| California|Health Care|Health Care Equip...|22.17|21.83|21.59|22.25| 6081400|\n",
      "|2010|    1|     A|Agilent Technolog...| California|Health Care|Health Care Equip...|22.32|22.15| 22.0|22.33| 4186000|\n",
      "|2010|    1|     A|Agilent Technolog...| California|Health Care|Health Care Equip...|22.33|21.77| 21.7|22.43| 4626600|\n",
      "|2010|    1|     A|Agilent Technolog...| California|Health Care|Health Care Equip...|22.45|22.39|22.27|22.63| 3815500|\n",
      "|2010|    1|   AAL|American Airlines...|      Texas|Industrials|            Airlines| 4.79| 5.31| 4.71| 5.37|25212000|\n",
      "+----+-----+------+--------------------+-----------+-----------+--------------------+-----+-----+-----+-----+--------+\n",
      "only showing top 20 rows\n",
      "\n"
     ]
    }
   ],
   "source": [
    "SA.show()"
   ]
  },
  {
   "cell_type": "code",
   "execution_count": 7,
   "id": "abaedc4b",
   "metadata": {},
   "outputs": [
    {
     "name": "stdout",
     "output_type": "stream",
     "text": [
      "root\n",
      " |-- year: integer (nullable = true)\n",
      " |-- month: integer (nullable = true)\n",
      " |-- symbol: string (nullable = true)\n",
      " |-- companyname: string (nullable = true)\n",
      " |-- state: string (nullable = true)\n",
      " |-- sector: string (nullable = true)\n",
      " |-- sub_industry: string (nullable = true)\n",
      " |-- open: double (nullable = true)\n",
      " |-- close: double (nullable = true)\n",
      " |-- low: double (nullable = true)\n",
      " |-- high: double (nullable = true)\n",
      " |-- volume: integer (nullable = true)\n",
      "\n"
     ]
    },
    {
     "data": {
      "text/plain": [
       "851259"
      ]
     },
     "execution_count": 7,
     "metadata": {},
     "output_type": "execute_result"
    }
   ],
   "source": [
    "SA.printSchema()\n",
    "SA.count()"
   ]
  },
  {
   "cell_type": "code",
   "execution_count": 8,
   "id": "a5f8e9b6",
   "metadata": {},
   "outputs": [
    {
     "name": "stdout",
     "output_type": "stream",
     "text": [
      "+-------------------------------+\n",
      "|greatest(max(year), max(month))|\n",
      "+-------------------------------+\n",
      "|                           2016|\n",
      "+-------------------------------+\n",
      "\n"
     ]
    }
   ],
   "source": [
    "maxyearInDataset = SA.select(\n",
    "    greatest(max(col('year')), max(col('month')))).show()\n",
    "\n",
    "maxyearInDataset = SA.select(\n",
    "    greatest(max(col('year')), max(col('month')))).head()[0]"
   ]
  },
  {
   "cell_type": "code",
   "execution_count": 9,
   "id": "2d2ea403",
   "metadata": {},
   "outputs": [],
   "source": [
    "#To check the Growth of eac company to  Add the column growth\n",
    "SA=SA.withColumn('growth',round(((F.col(\"open\")-F.col(\"close\"))/F.col(\"open\"))*100,2))\n"
   ]
  },
  {
   "cell_type": "code",
   "execution_count": 6,
   "id": "a43da0b9",
   "metadata": {},
   "outputs": [
    {
     "name": "stdout",
     "output_type": "stream",
     "text": [
      "+----+-----+------+--------------------+-----------+-----------+--------------------+-----+-----+-----+-----+--------+------+\n",
      "|year|month|symbol|         companyname|      state|     sector|        sub_industry| open|close|  low| high|  volume|growth|\n",
      "+----+-----+------+--------------------+-----------+-----------+--------------------+-----+-----+-----+-----+--------+------+\n",
      "|2010|    1|     A|Agilent Technolog...| California|Health Care|Health Care Equip...|20.69|20.05|19.97|20.87| 5923000|  3.09|\n",
      "|2010|    1|     A|Agilent Technolog...| California|Health Care|Health Care Equip...|20.84|20.52|20.38|21.01| 4937100|  1.54|\n",
      "|2010|    1|     A|Agilent Technolog...| California|Health Care|Health Care Equip...|20.89|20.87|20.55|20.95| 4362100|   0.1|\n",
      "|2010|    1|     A|Agilent Technolog...| California|Health Care|Health Care Equip...|21.01|20.95|20.73| 21.1| 2696800|  0.29|\n",
      "|2010|    1|     A|Agilent Technolog...| California|Health Care|Health Care Equip...|21.04|21.07|20.91|21.21| 3608500| -0.14|\n",
      "|2010|    1|     A|Agilent Technolog...| California|Health Care|Health Care Equip...|21.71|20.87|20.81|21.71| 4263000|  3.87|\n",
      "|2010|    1|     A|Agilent Technolog...| California|Health Care|Health Care Equip...|21.72|22.03|21.71|22.05| 3563600| -1.43|\n",
      "|2010|    1|     A|Agilent Technolog...| California|Health Care|Health Care Equip...| 21.8|21.95|21.49|22.02| 3418900| -0.69|\n",
      "|2010|    1|     A|Agilent Technolog...| California|Health Care|Health Care Equip...|21.84|21.91| 21.6|21.94| 4589000| -0.32|\n",
      "|2010|    1|     A|Agilent Technolog...| California|Health Care|Health Care Equip...|21.86|21.78|21.62|21.92| 2871000|  0.37|\n",
      "|2010|    1|     A|Agilent Technolog...| California|Health Care|Health Care Equip...|21.88|22.28|21.82|22.35| 6163700| -1.83|\n",
      "|2010|    1|     A|Agilent Technolog...| California|Health Care|Health Care Equip...|21.92|22.03|21.75|22.07| 3733900|  -0.5|\n",
      "|2010|    1|     A|Agilent Technolog...| California|Health Care|Health Care Equip...|22.02|22.04|21.82|22.05| 3095100| -0.09|\n",
      "|2010|    1|     A|Agilent Technolog...| California|Health Care|Health Care Equip...|22.07|22.07| 22.0|22.17| 3243700|   0.0|\n",
      "|2010|    1|     A|Agilent Technolog...| California|Health Care|Health Care Equip...|22.09|22.05|21.94|22.21| 4781500|  0.18|\n",
      "|2010|    1|     A|Agilent Technolog...| California|Health Care|Health Care Equip...|22.17|21.83|21.59|22.25| 6081400|  1.53|\n",
      "|2010|    1|     A|Agilent Technolog...| California|Health Care|Health Care Equip...|22.32|22.15| 22.0|22.33| 4186000|  0.76|\n",
      "|2010|    1|     A|Agilent Technolog...| California|Health Care|Health Care Equip...|22.33|21.77| 21.7|22.43| 4626600|  2.51|\n",
      "|2010|    1|     A|Agilent Technolog...| California|Health Care|Health Care Equip...|22.45|22.39|22.27|22.63| 3815500|  0.27|\n",
      "|2010|    1|   AAL|American Airlines...|      Texas|Industrials|            Airlines| 4.79| 5.31| 4.71| 5.37|25212000|-10.86|\n",
      "+----+-----+------+--------------------+-----------+-----------+--------------------+-----+-----+-----+-----+--------+------+\n",
      "only showing top 20 rows\n",
      "\n"
     ]
    }
   ],
   "source": [
    "SA.createOrReplaceTempView('SA')\n",
    "SA.show()"
   ]
  },
  {
   "cell_type": "code",
   "execution_count": 8,
   "id": "a96e7679",
   "metadata": {},
   "outputs": [
    {
     "name": "stdout",
     "output_type": "stream",
     "text": [
      "+------+\n",
      "|growth|\n",
      "+------+\n",
      "|  3.09|\n",
      "|  1.54|\n",
      "|   0.1|\n",
      "|  0.29|\n",
      "| -0.14|\n",
      "+------+\n",
      "only showing top 5 rows\n",
      "\n"
     ]
    }
   ],
   "source": [
    "SA.select('growth').show(5)"
   ]
  },
  {
   "cell_type": "code",
   "execution_count": 11,
   "id": "ac30b5ac",
   "metadata": {},
   "outputs": [
    {
     "name": "stdout",
     "output_type": "stream",
     "text": [
      "+--------------------+------+\n",
      "|         companyname|growth|\n",
      "+--------------------+------+\n",
      "|     First Solar Inc| 25.54|\n",
      "|       Williams Cos.| 25.25|\n",
      "|Michael Kors Hold...|  24.2|\n",
      "|   Chesapeake Energy| 20.31|\n",
      "|Freeport-McMoran ...| 20.19|\n",
      "+--------------------+------+\n",
      "only showing top 5 rows\n",
      "\n"
     ]
    }
   ],
   "source": [
    "#Find the top five companies that are good for investment\n",
    "spark.sql(\"\"\"\n",
    " select companyname,max(growth) as growth from SA group by companyname order by growth desc\n",
    "         \"\"\").show(5)"
   ]
  },
  {
   "cell_type": "code",
   "execution_count": 20,
   "id": "a092c931",
   "metadata": {},
   "outputs": [
    {
     "name": "stdout",
     "output_type": "stream",
     "text": [
      "+---------+--------------------+------+\n",
      "|    state|        sub_industry|growth|\n",
      "+---------+--------------------+------+\n",
      "|  Arizona|      Semiconductors| 25.54|\n",
      "| Oklahoma|Oil & Gas Explora...| 25.25|\n",
      "| New York|Apparel; Accessor...|  24.2|\n",
      "| Oklahoma|Integrated Oil & Gas| 20.31|\n",
      "|  Arizona|              Copper| 20.19|\n",
      "+---------+--------------------+------+\n",
      "only showing top 5 rows\n",
      "\n"
     ]
    }
   ],
   "source": [
    "#Show the best-growing industry by each state, having at least two or more industries mapped.\n",
    "spark.sql(\"\"\"\n",
    "\n",
    " select state,sub_industry,max(growth) as growth from SA\n",
    " group by state,sub_industry order by growth desc\n",
    " \n",
    " \"\"\").show(5)"
   ]
  },
  {
   "cell_type": "code",
   "execution_count": 44,
   "id": "e214ac42",
   "metadata": {},
   "outputs": [
    {
     "name": "stdout",
     "output_type": "stream",
     "text": [
      "+--------------------+----+----------+\n",
      "|              sector|year|max_growth|\n",
      "+--------------------+----+----------+\n",
      "|Information Techn...|2011|     25.54|\n",
      "|              Energy|2016|     25.25|\n",
      "|Consumer Discreti...|2015|      24.2|\n",
      "|           Materials|2016|     20.19|\n",
      "|         Health Care|2016|     20.01|\n",
      "|              Energy|2012|      18.9|\n",
      "|Consumer Discreti...|2016|      18.8|\n",
      "|         Industrials|2015|     18.73|\n",
      "|              Energy|2010|      18.7|\n",
      "|         Health Care|2011|     18.01|\n",
      "|           Utilities|2015|     17.73|\n",
      "|    Consumer Staples|2013|     17.36|\n",
      "|         Health Care|2015|     17.13|\n",
      "|         Industrials|2014|      17.1|\n",
      "|Information Techn...|2013|     16.86|\n",
      "|Information Techn...|2016|     16.81|\n",
      "|Information Techn...|2012|     15.94|\n",
      "|         Industrials|2011|     15.08|\n",
      "|         Industrials|2016|     14.93|\n",
      "|              Energy|2015|     14.79|\n",
      "+--------------------+----+----------+\n",
      "only showing top 20 rows\n",
      "\n"
     ]
    }
   ],
   "source": [
    "#1) Best Year for each Sector\n",
    "SA.groupBy('sector','year').agg(\n",
    "    max('growth').alias('max_growth')).orderBy(\n",
    "        col('max_growth').desc()).show()"
   ]
  },
  {
   "cell_type": "code",
   "execution_count": 10,
   "id": "d1cd7077",
   "metadata": {},
   "outputs": [
    {
     "name": "stdout",
     "output_type": "stream",
     "text": [
      "+--------------------+----+----------+\n",
      "|              sector|year|min_growth|\n",
      "+--------------------+----+----------+\n",
      "|           Utilities|2012|     -5.41|\n",
      "|Telecommunication...|2015|      -6.0|\n",
      "|           Utilities|2013|     -6.47|\n",
      "|           Utilities|2014|     -6.47|\n",
      "|Telecommunication...|2013|     -6.74|\n",
      "+--------------------+----+----------+\n",
      "only showing top 5 rows\n",
      "\n"
     ]
    }
   ],
   "source": [
    "#Worst year of each Sector\n",
    "SA.groupBy('sector','year').agg(\n",
    "    min('growth').alias('min_growth')).orderBy(\n",
    "        col('min_growth').desc()).show(5)"
   ]
  },
  {
   "cell_type": "code",
   "execution_count": 18,
   "id": "c820c1d0",
   "metadata": {},
   "outputs": [
    {
     "name": "stdout",
     "output_type": "stream",
     "text": [
      "+-----------+----+-----+------+\n",
      "|     sector|year|month|growth|\n",
      "+-----------+----+-----+------+\n",
      "|Health Care|2010|    1|  3.09|\n",
      "|Health Care|2010|    1|  1.54|\n",
      "|Health Care|2010|    1|   0.1|\n",
      "|Health Care|2010|    1|  0.29|\n",
      "|Health Care|2010|    1| -0.14|\n",
      "|Health Care|2010|    1|  3.87|\n",
      "|Health Care|2010|    1| -1.43|\n",
      "|Health Care|2010|    1| -0.69|\n",
      "|Health Care|2010|    1| -0.32|\n",
      "|Health Care|2010|    1|  0.37|\n",
      "|Health Care|2010|    1| -1.83|\n",
      "|Health Care|2010|    1|  -0.5|\n",
      "|Health Care|2010|    1| -0.09|\n",
      "|Health Care|2010|    1|   0.0|\n",
      "|Health Care|2010|    1|  0.18|\n",
      "|Health Care|2010|    1|  1.53|\n",
      "|Health Care|2010|    1|  0.76|\n",
      "|Health Care|2010|    1|  2.51|\n",
      "|Health Care|2010|    1|  0.27|\n",
      "|Industrials|2010|    1|-10.86|\n",
      "+-----------+----+-----+------+\n",
      "only showing top 20 rows\n",
      "\n"
     ]
    }
   ],
   "source": [
    "\n",
    "SA[col('year') == 2010].select(\n",
    "    'sector', 'year','month','growth').orderBy(col('month').asc()).show()"
   ]
  },
  {
   "cell_type": "code",
   "execution_count": 32,
   "id": "fb7a3b75",
   "metadata": {},
   "outputs": [
    {
     "name": "stdout",
     "output_type": "stream",
     "text": [
      "+--------------------+----------+----------+----------+----------+----------+----------+----------+\n",
      "|              sector|growth2010|growth2011|growth2012|growth2013|growth2014|growth2015|growth2016|\n",
      "+--------------------+----------+----------+----------+----------+----------+----------+----------+\n",
      "|         Industrials|       0.0|       0.0|       0.0|     13.26|       0.0|       0.0|       0.0|\n",
      "|           Materials|       0.0|       0.0|       0.0|       0.0|      9.34|       0.0|       0.0|\n",
      "|Telecommunication...|       0.0|       0.0|       0.0|       5.0|       0.0|       0.0|       0.0|\n",
      "|    Consumer Staples|       0.0|       0.0|       0.0|       0.0|       0.0|       0.0|     14.49|\n",
      "|Consumer Discreti...|      9.16|       0.0|       0.0|       0.0|       0.0|       0.0|       0.0|\n",
      "|Information Techn...|       0.0|       0.0|       0.0|       0.0|       0.0|       0.0|     16.81|\n",
      "|Information Techn...|       0.0|       0.0|       0.0|       0.0|       0.0|     10.54|       0.0|\n",
      "|         Industrials|      9.83|       0.0|       0.0|       0.0|       0.0|       0.0|       0.0|\n",
      "|           Materials|       0.0|       0.0|       0.0|       0.0|       0.0|     11.22|       0.0|\n",
      "|              Energy|      18.7|       0.0|       0.0|       0.0|       0.0|       0.0|       0.0|\n",
      "|          Financials|       0.0|       0.0|       0.0|     13.34|       0.0|       0.0|       0.0|\n",
      "|           Materials|       0.0|       0.0|       0.0|       0.0|       0.0|       0.0|     20.19|\n",
      "|           Utilities|       0.0|       0.0|       0.0|      4.24|       0.0|       0.0|       0.0|\n",
      "|Information Techn...|       0.0|       0.0|       0.0|       0.0|      9.89|       0.0|       0.0|\n",
      "|         Real Estate|       0.0|       0.0|       0.0|       0.0|       0.0|      7.62|       0.0|\n",
      "|         Health Care|       0.0|       0.0|       0.0|       0.0|     10.27|       0.0|       0.0|\n",
      "|Consumer Discreti...|       0.0|       0.0|       0.0|       0.0|       0.0|      24.2|       0.0|\n",
      "|              Energy|       0.0|       0.0|       0.0|       0.0|       0.0|       0.0|     25.25|\n",
      "|          Financials|     12.48|       0.0|       0.0|       0.0|       0.0|       0.0|       0.0|\n",
      "|Telecommunication...|       0.0|       0.0|       0.0|       0.0|     12.17|       0.0|       0.0|\n",
      "+--------------------+----------+----------+----------+----------+----------+----------+----------+\n",
      "only showing top 20 rows\n",
      "\n"
     ]
    }
   ],
   "source": [
    "#Year wise maximum growth of Companies\n",
    "spark.sql(\"\"\"\n",
    "\n",
    " select sector,(case when year=2010 then max(growth) else 0 end  )as growth2010,\n",
    " (case when year=2011 then max(growth) else 0 end )as growth2011 ,\n",
    " (case when year=2012 then max(growth) else 0 end )as growth2012,\n",
    " (case when year=2013 then max(growth) else 0 end )as growth2013 ,\n",
    " (case when year=2014 then max(growth) else 0 end )as growth2014,\n",
    " (case when year=2015 then max(growth) else 0 end )as growth2015,\n",
    " (case when year=2016 then max(growth) else 0 end )as growth2016  from SA \n",
    " group by year,sector\n",
    " \n",
    " \"\"\").show()"
   ]
  },
  {
   "cell_type": "code",
   "execution_count": null,
   "id": "46fc7186",
   "metadata": {},
   "outputs": [],
   "source": []
  }
 ],
 "metadata": {
  "kernelspec": {
   "display_name": "Pyspark 3",
   "language": "python",
   "name": "pyspark3"
  },
  "language_info": {
   "codemirror_mode": {
    "name": "ipython",
    "version": 3
   },
   "file_extension": ".py",
   "mimetype": "text/x-python",
   "name": "python",
   "nbconvert_exporter": "python",
   "pygments_lexer": "ipython3",
   "version": "3.6.12"
  }
 },
 "nbformat": 4,
 "nbformat_minor": 5
}
