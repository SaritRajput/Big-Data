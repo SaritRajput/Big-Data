{
 "cells": [
  {
   "cell_type": "code",
   "execution_count": 1,
   "id": "5f4da45b",
   "metadata": {},
   "outputs": [],
   "source": [
    "# # **Loading Hive Tables and Data Preparation for Analysis**\n",
    "\n",
    "import pyspark.sql.functions as F\n",
    "from pyspark.sql.functions import col, year, to_date, greatest, count, max\n",
    "from pyspark.sql import SparkSession"
   ]
  },
  {
   "cell_type": "code",
   "execution_count": 2,
   "id": "46dca8d2",
   "metadata": {},
   "outputs": [],
   "source": [
    "spark = SparkSession.builder.appName(\"E2E_Capstone\").config(\n",
    "    \"spark.ui.port\", \"0\").config(\n",
    "        \"spark.sql.catalogImplementation=hive\").config(\n",
    "        \"spark.sql.warehouse.dir\",\n",
    "        \"hdfs://nameservice1/user/itv003722/warehouse/comment_analysis.db/review\").config(\n",
    "            \"spark.serializer\",\n",
    "    \"org.apache.spark.serializer.KryoSerializer\").enableHiveSupport().getOrCreate()\n",
    "spark.sparkContext.setLogLevel('OFF')"
   ]
  },
  {
   "cell_type": "code",
   "execution_count": 3,
   "id": "d94e5531",
   "metadata": {},
   "outputs": [],
   "source": [
    "# Creating Local Views and Spark Dataframes to call these objects from memory.\n",
    "\n",
    "review = spark.table('comment_analysis.review')\n",
    "review.createOrReplaceTempView('review')"
   ]
  },
  {
   "cell_type": "code",
   "execution_count": 4,
   "id": "316d9812",
   "metadata": {},
   "outputs": [
    {
     "name": "stdout",
     "output_type": "stream",
     "text": [
      "+-----+---------+--------------------+-----+--------------------+--------------------+--------------------+--------------------+---------------+------------------+--------------------+--------------------------+------------------+----------------------+---------+\n",
      "|index|  company|               state| year|           job_title|             summary|                pros|                cons|overall_ratings|work_balance_stars|culture_values_stars|carrer_opportunities_stars|comp_benefit_stars|senior_mangemnet_stars|  country|\n",
      "+-----+---------+--------------------+-----+--------------------+--------------------+--------------------+--------------------+---------------+------------------+--------------------+--------------------------+------------------+----------------------+---------+\n",
      "|65024|microsoft|Caracas; Capital ...| 2015|Current Employee ...|Services Delivery...|The company where...|Difficult to chan...|              4|                 5|                   4|                         4|                 2|                     4|Venezuela|\n",
      "|34243|   amazon|Caracas; Capital ...| 2016|Current Employee ...|Coordinador de In...|Multi-Plataforma;...|imposible trabajo...|              5|                 5|                   5|                         5|                 5|                     5|Venezuela|\n",
      "| 7800|   google|Caracas; Capital ...| 2016|Former Employee -...|Licenciado en Com...|Compromiso; dedic...|Tiempo; objetivos...|              5|                 5|                   5|                         5|                 5|                     5|Venezuela|\n",
      "| 5690|   google|       SanFrancisco | 2017|Current Employee ...|               Candy|Awesome working c...|Their is none as ...|              5|                 5|                   5|                         5|                 5|                     5|Venezuela|\n",
      "|47214|    apple|               Coro | 2018|Former Employee -...|       Great company|Proactive; dinami...|I can say that wh...|              5|                 5|                   5|                         5|                 5|                     4|Venezuela|\n",
      "| 5207|   google|     Ciudad Guayana | 2018|Current Employee ...|        Good company|Really wide range...|None worth pointi...|              5|                 5|                   5|                         5|                 5|                     4|Venezuela|\n",
      "|66736|microsoft|          Maracaibo | 2012|Current Employee ...|       Great Company|Good Salary and A...|A lot of work to ...|              5|                 2|                   5|                         5|                 4|                     4|Venezuela|\n",
      "|35542| facebook|             Douala | 2018|Current Employee ...|               Great|Popularity contri...|Keep away from pr...|              5|                 3|                   3|                         3|                 3|                     3| Cameroon|\n",
      "|65557|microsoft|              Lagos | 2015|Current Employee ...|          Internship|Amazing people; o...|Only opportunitie...|              4|                 5|                   5|                         4|                 3|                     5|  Nigeria|\n",
      "|65233|microsoft|       Abuja; Niger | 2015|Former Employee -...|  Public Sector Lead|Top Brand; Great ...|No work-life bala...|              3|                 3|                   4|                         4|                 4|                     3|  Nigeria|\n",
      "| 6241|   google|         Paki; Kano | 2016|Current Employee ...|        Good company|Very Good company...|salary compensati...|              4|                 5|                   5|                         5|                 5|                     5|  Nigeria|\n",
      "| 6497|   google|              Germa | 2016|Former Employee -...| Goog job goid money|I work here becau...|Its too hard to w...|              4|                 5|                   3|                         5|                 4|                     4|  Nigeria|\n",
      "|63942|microsoft|              Lagos | 2016|Former Employee -...|           Microsoft|Great in lead clo...|Very bad in acqui...|              4|                 4|                   4|                         3|                 4|                     3|  Nigeria|\n",
      "|48100|    apple|                Aha | 2016|Former Employee -...|AppleCare Remote ...|It was great havi...|I think this is a...|              4|                 5|                   4|                         4|                 3|                     4|  Nigeria|\n",
      "|35593| facebook|   Katsina; Katsina | 2017|Current Employee ...|Community Develop...|To promote awaren...|communicating wit...|              5|                 4|                   5|                         5|                 4|                     4|  Nigeria|\n",
      "|47293|    apple|              Lagos | 2017|Current Employee ...|    office assistant|it is a great com...|it would be all h...|              4|                 3|                   4|                         5|                 5|                     4|  Nigeria|\n",
      "|47496|    apple|              Lagos | 2017|Current Employee ...|   Laundry assistant|It's a place wher...|The company is pe...|              1|                 3|                   4|                         4|                 4|                     3|  Nigeria|\n",
      "|63644|microsoft|              Lagos | 2017|Current Employee ...|              salary|great people; goo...|internal politics...|              4|                 4|                   4|                         4|                 4|                     3|  Nigeria|\n",
      "|63413|microsoft|              Lagos | 2017|Former Employee -...| Business Sales Lead|Full Time Employe...|\"The Culture with...|              3|                 2|                   1|                         3|                 3|                     2|  Nigeria|\n",
      "|63128|microsoft|       Abuja; Niger | 2017|Current Employee ...|Solution Architec...|Great culture. Go...|Tough to make a b...|              5|                 3|                   4|                         4|                 4|                     3|  Nigeria|\n",
      "+-----+---------+--------------------+-----+--------------------+--------------------+--------------------+--------------------+---------------+------------------+--------------------+--------------------------+------------------+----------------------+---------+\n",
      "only showing top 20 rows\n",
      "\n"
     ]
    }
   ],
   "source": [
    "review.show()"
   ]
  },
  {
   "cell_type": "code",
   "execution_count": 5,
   "id": "c8241d07",
   "metadata": {},
   "outputs": [
    {
     "name": "stdout",
     "output_type": "stream",
     "text": [
      "root\n",
      " |-- index: integer (nullable = true)\n",
      " |-- company: string (nullable = true)\n",
      " |-- state: string (nullable = true)\n",
      " |-- year: string (nullable = true)\n",
      " |-- job_title: string (nullable = true)\n",
      " |-- summary: string (nullable = true)\n",
      " |-- pros: string (nullable = true)\n",
      " |-- cons: string (nullable = true)\n",
      " |-- overall_ratings: integer (nullable = true)\n",
      " |-- work_balance_stars: integer (nullable = true)\n",
      " |-- culture_values_stars: integer (nullable = true)\n",
      " |-- carrer_opportunities_stars: integer (nullable = true)\n",
      " |-- comp_benefit_stars: integer (nullable = true)\n",
      " |-- senior_mangemnet_stars: integer (nullable = true)\n",
      " |-- country: string (nullable = true)\n",
      "\n"
     ]
    }
   ],
   "source": [
    "review.printSchema()\n"
   ]
  },
  {
   "cell_type": "code",
   "execution_count": 6,
   "id": "8035c569",
   "metadata": {},
   "outputs": [
    {
     "name": "stdout",
     "output_type": "stream",
     "text": [
      "+---------+---------------+\n",
      "|  company|overall_ratings|\n",
      "+---------+---------------+\n",
      "|    apple|              5|\n",
      "|microsoft|              1|\n",
      "|microsoft|              4|\n",
      "|microsoft|              4|\n",
      "|microsoft|              3|\n",
      "|microsoft|              3|\n",
      "|    apple|              1|\n",
      "|microsoft|              2|\n",
      "|microsoft|              3|\n",
      "|microsoft|              4|\n",
      "+---------+---------------+\n",
      "only showing top 10 rows\n",
      "\n"
     ]
    }
   ],
   "source": [
    "review.select('company','overall_ratings').show(10)"
   ]
  },
  {
   "cell_type": "code",
   "execution_count": 7,
   "id": "564433c8",
   "metadata": {},
   "outputs": [
    {
     "name": "stdout",
     "output_type": "stream",
     "text": [
      "+--------------------------------+\n",
      "|count(DISTINCT company, country)|\n",
      "+--------------------------------+\n",
      "|                             296|\n",
      "+--------------------------------+\n",
      "\n"
     ]
    }
   ],
   "source": [
    "from pyspark.sql.functions import countDistinct\n",
    "df=review.select(countDistinct(\"company\",\"country\"))\n",
    "df.show()\n",
    "# print(\"Distinct Count of company & country: \"+ str(df.collect()[0][0]))"
   ]
  },
  {
   "cell_type": "code",
   "execution_count": 8,
   "id": "f7ad9776",
   "metadata": {},
   "outputs": [
    {
     "name": "stdout",
     "output_type": "stream",
     "text": [
      "+--------------------+------------+------------+------------+\n",
      "|             company|25_perentage|50_perentage|75_perentage|\n",
      "+--------------------+------------+------------+------------+\n",
      "|The Cloud team do...|         4.0|         4.0|         4.0|\n",
      "|           microsoft|         3.0|         4.0|         5.0|\n",
      "|              amazon|         3.0|         4.0|         5.0|\n",
      "|             netflix|         2.0|         4.0|         5.0|\n",
      "|               apple|         3.0|         4.0|         5.0|\n",
      "|            facebook|         4.0|         5.0|         5.0|\n",
      "|              google|         4.0|         5.0|         5.0|\n",
      "+--------------------+------------+------------+------------+\n",
      "\n"
     ]
    }
   ],
   "source": [
    "#Using the over-all rating fields display trend:\n",
    "#1. Globally by company: Identify trends at 25%, 50%, 75%\n",
    "spark.sql(\"\"\"\n",
    "            select company,percentile(cast(overall_ratings as bigint), 0.25) as 25_perentage,percentile(cast(overall_ratings as bigint), 0.50) as 50_perentage,percentile(cast(overall_ratings as bigint), 0.75) as 75_perentage   from review\n",
    "group by company\n",
    "         \"\"\").show()"
   ]
  },
  {
   "cell_type": "code",
   "execution_count": 9,
   "id": "80327379",
   "metadata": {},
   "outputs": [
    {
     "name": "stdout",
     "output_type": "stream",
     "text": [
      "+---------+-----+------------+------------+------------+\n",
      "|  company| year|25_perentage|50_perentage|75_perentage|\n",
      "+---------+-----+------------+------------+------------+\n",
      "|  netflix| 0000|         4.0|         4.0|         4.0|\n",
      "|   amazon| 0000|         4.0|         4.0|         4.0|\n",
      "|    apple| 0000|         4.0|         4.0|         4.0|\n",
      "|   google| 2008|         2.0|         4.0|         5.0|\n",
      "| facebook| 2008|         3.5|         4.0|         5.0|\n",
      "|   amazon| 2008|         2.0|         3.0|         4.0|\n",
      "|  netflix| 2008|         4.0|         5.0|         5.0|\n",
      "|    apple| 2008|         3.0|         4.0|         5.0|\n",
      "|microsoft| 2008|         3.0|         4.0|         4.0|\n",
      "|   amazon| 2009|         2.0|         3.5|         4.0|\n",
      "|  netflix| 2009|         2.0|         3.0|         4.0|\n",
      "|    apple| 2009|         3.0|         4.0|         5.0|\n",
      "|   google| 2009|         3.0|         4.0|        4.75|\n",
      "| facebook| 2009|         5.0|         5.0|         5.0|\n",
      "|microsoft| 2009|         3.0|         3.0|         4.0|\n",
      "| facebook| 2010|         5.0|         5.0|         5.0|\n",
      "|   amazon| 2010|         2.0|         3.0|         4.0|\n",
      "|microsoft| 2010|         3.0|         3.0|         4.0|\n",
      "|   google| 2010|         3.0|         4.0|         5.0|\n",
      "|    apple| 2010|         3.0|         4.0|         4.0|\n",
      "+---------+-----+------------+------------+------------+\n",
      "only showing top 20 rows\n",
      "\n"
     ]
    }
   ],
   "source": [
    "#2. Globally by company per year: Identify trends at 25%, 50%, 75%\n",
    "d=spark.sql(\"\"\"\n",
    "            select company,year,percentile(cast(overall_ratings as bigint), 0.25) as 25_perentage,percentile(cast(overall_ratings as bigint), 0.50) as 50_perentage,percentile(cast(overall_ratings as bigint), 0.75) as 75_perentage   from review\n",
    "group by company,year order by year asc\n",
    "         \"\"\").show()"
   ]
  },
  {
   "cell_type": "code",
   "execution_count": 10,
   "id": "ae19d744",
   "metadata": {},
   "outputs": [
    {
     "name": "stdout",
     "output_type": "stream",
     "text": [
      "+-----+\n",
      "| year|\n",
      "+-----+\n",
      "| 0000|\n",
      "| 2008|\n",
      "| 2009|\n",
      "| 2010|\n",
      "| 2011|\n",
      "| 2012|\n",
      "| 2013|\n",
      "| 2014|\n",
      "| 2015|\n",
      "| 2016|\n",
      "| 2017|\n",
      "| 2018|\n",
      "|    1|\n",
      "| None|\n",
      "+-----+\n",
      "\n"
     ]
    }
   ],
   "source": [
    "spark.sql(\"\"\"\n",
    "            select distinct(year) from review order by year\n",
    "\n",
    "         \"\"\").show()"
   ]
  },
  {
   "cell_type": "code",
   "execution_count": 22,
   "id": "6684ee1d",
   "metadata": {},
   "outputs": [
    {
     "name": "stdout",
     "output_type": "stream",
     "text": [
      "+---------+--------------------+------------+------------+------------+\n",
      "|  company|             country|25_perentage|50_perentage|75_perentage|\n",
      "+---------+--------------------+------------+------------+------------+\n",
      "|   amazon|             Ireland|         2.5|         4.0|         5.0|\n",
      "|    apple|           Australia|         3.0|         4.0|         5.0|\n",
      "|   amazon|              Brazil|         5.0|         5.0|         5.0|\n",
      "|   amazon|            Colombia|         3.0|         3.0|         3.0|\n",
      "|    apple|            Pakistan|        4.25|         4.5|        4.75|\n",
      "|    apple|       Cote d'Ivoire|         5.0|         5.0|         5.0|\n",
      "| facebook|             Denmark|         4.0|         4.0|         4.0|\n",
      "|microsoft|             Lebanon|         5.0|         5.0|         5.0|\n",
      "|   amazon|                  UK|         2.0|         4.0|         5.0|\n",
      "|   google|               Chile|         2.0|         2.0|         2.0|\n",
      "|microsoft|__HIVE_DEFAULT_PA...|         3.0|         4.0|         5.0|\n",
      "|microsoft|              Sweden|         4.0|         4.0|         5.0|\n",
      "|microsoft|              Greece|         1.5|         3.0|         3.0|\n",
      "|   amazon|             Finland|         2.0|         2.0|         2.0|\n",
      "|microsoft|                  UK|         3.0|         4.0|         5.0|\n",
      "| facebook|            Dominica|         5.0|         5.0|         5.0|\n",
      "|   amazon|               Italy|         4.0|         4.0|         5.0|\n",
      "|microsoft|           Hong Kong|         2.5|         4.0|         4.0|\n",
      "|   amazon|              Turkey|        1.25|         1.5|        1.75|\n",
      "|   google|            Bulgaria|         5.0|         5.0|         5.0|\n",
      "+---------+--------------------+------------+------------+------------+\n",
      "only showing top 20 rows\n",
      "\n"
     ]
    }
   ],
   "source": [
    "#3. By company by country (Identify trends for each company by country: Identify trends at 25%, 50%, 75%\n",
    "spark.sql(\"\"\"\n",
    "            select company,country,percentile(cast(overall_ratings as bigint), 0.25) as 25_perentage,percentile(cast(overall_ratings as bigint), 0.50) as 50_perentage,percentile(cast(overall_ratings as bigint), 0.75) as 75_perentage   from review\n",
    "group by company,country \n",
    "         \"\"\").show()"
   ]
  },
  {
   "cell_type": "code",
   "execution_count": null,
   "id": "e209de9f",
   "metadata": {},
   "outputs": [],
   "source": [
    "##Display the impact of employee status on rating a company using the overall-ratings field by the company by year.\n",
    "\n",
    "spark.sql(\"\"\"\n",
    "select year,company,overall_ratings,sum(or_count) as total from (\n",
    "           select year,company,job_title,overall_ratings ,count(overall_ratings) as or_count from review\n",
    "        group by company,year ,job_title having count(overall_ratings)>1 order by year, overall_ratings desc\n",
    "        )group by year,company\n",
    "         \"\"\").show()\n",
    "\n"
   ]
  },
  {
   "cell_type": "code",
   "execution_count": null,
   "id": "e340a834",
   "metadata": {},
   "outputs": [],
   "source": [
    "review.groupBy('year','job_title','overall_ratings').agg(\n",
    "    count('overall_ratings').alias('rating_count')).orderBy(\n",
    "        col('rating_count').desc()).show()"
   ]
  },
  {
   "cell_type": "code",
   "execution_count": 25,
   "id": "773a2804",
   "metadata": {},
   "outputs": [
    {
     "name": "stdout",
     "output_type": "stream",
     "text": [
      "+---------+---------------+------------------+--------------------+--------------------------+------------------+----------------------+\n",
      "|  company|overall_ratings|work_balance_stars|culture_values_stars|carrer_opportunities_stars|comp_benefit_stars|senior_mangemnet_stars|\n",
      "+---------+---------------+------------------+--------------------+--------------------------+------------------+----------------------+\n",
      "|microsoft|              4|                 2|                   4|                         4|                 4|                     3|\n",
      "|microsoft|              4|                 2|                   4|                         4|                 4|                     3|\n",
      "|microsoft|              5|                 4|                   5|                         5|                 4|                     4|\n",
      "|    apple|              3|                 5|                   3|                         4|                 5|                     3|\n",
      "|microsoft|              4|                 3|                   4|                         3|                 3|                     2|\n",
      "|microsoft|              5|                 3|                   4|                         4|                 4|                     3|\n",
      "|microsoft|              3|                 3|                   3|                         2|                 2|                     3|\n",
      "|microsoft|              3|                 3|                   3|                         2|                 2|                     3|\n",
      "|microsoft|              5|                 5|                   5|                         5|                 5|                     5|\n",
      "|   amazon|              5|                 5|                   5|                         5|                 5|                     5|\n",
      "|    apple|              4|                 3|                   4|                         4|                 4|                     3|\n",
      "|    apple|              4|                 4|                   5|                         3|                 4|                     4|\n",
      "|microsoft|              3|                 2|                   4|                         3|                 4|                     2|\n",
      "|microsoft|              5|                 5|                   5|                         5|                 5|                     5|\n",
      "|microsoft|              5|                 2|                   3|                         3|                 3|                     3|\n",
      "|   amazon|              5|                 4|                   5|                         5|                 4|                     5|\n",
      "|microsoft|              5|                 3|                   4|                         4|                 4|                     3|\n",
      "|microsoft|              4|                 3|                   4|                         4|                 4|                     3|\n",
      "|microsoft|              4|                 3|                   5|                         4|                 4|                     4|\n",
      "|microsoft|              4|                 1|                   2|                         2|                 3|                     3|\n",
      "+---------+---------------+------------------+--------------------+--------------------------+------------------+----------------------+\n",
      "only showing top 20 rows\n",
      "\n"
     ]
    }
   ],
   "source": [
    "#Display the relationship between the overall rating score vs. the rest of the rating field scores by company.\n",
    "\n",
    "spark.sql(\"\"\"select company,overall_ratings,work_balance_stars,culture_values_stars,carrer_opportunities_stars,comp_benefit_stars,senior_mangemnet_stars from review\n",
    "  \"\"\").show()"
   ]
  },
  {
   "cell_type": "code",
   "execution_count": null,
   "id": "1d27b60b",
   "metadata": {},
   "outputs": [],
   "source": [
    "#Which corporation is worth working for"
   ]
  },
  {
   "cell_type": "code",
   "execution_count": 32,
   "id": "747c6ec0",
   "metadata": {},
   "outputs": [
    {
     "name": "stdout",
     "output_type": "stream",
     "text": [
      "+-----+-------+----------------+-----+--------------------------------------------+--------------------------------------------------------------------------------------------------+----+----+---------------+------------------+--------------------+--------------------------+------------------+----------------------+--------------------------+----------+\n",
      "|index|company|state           |year |job_title                                   |summary                                                                                           |pros|cons|overall_ratings|work_balance_stars|culture_values_stars|carrer_opportunities_stars|comp_benefit_stars|senior_mangemnet_stars|country                   |row_number|\n",
      "+-----+-------+----------------+-----+--------------------------------------------+--------------------------------------------------------------------------------------------------+----+----+---------------+------------------+--------------------+--------------------------+------------------+----------------------+--------------------------+----------+\n",
      "|49322|apple  |London; England | 2010|Former Employee - Manager                   |A Golden Birdcage                                                                                 |null|null|1              |2                 |4                   |1                         |1                 |1                     |UK                        |1         |\n",
      "|49309|apple  |Cork            | 2010|Former Employee - Sales Mac Expert          |simply a huge call-center with absolutely no respect for employee.                                |null|null|1              |1                 |4                   |1                         |3                 |1                     |Ireland                   |2         |\n",
      "|49392|apple  |Cork            | 2010|Current Employee - Technical Support Adviser|Sheer terror; only looks good from outside.                                                       |null|null|1              |2                 |4                   |1                         |1                 |3                     |Ireland                   |3         |\n",
      "|33952|amazon |Hyderabad       | 2010|Current Employee - Software Engineer II     |Cant sleep at night                                                                               |null|null|1              |1                 |4                   |3                         |2                 |2                     |India                     |4         |\n",
      "|7637 |google |                | 2010|Current Employee - Datacenter Technician    |Looks good on your CV and that's about it                                                         |null|null|1              |3                 |4                   |1                         |3                 |1                     |__HIVE_DEFAULT_PARTITION__|5         |\n",
      "|7659 |google |                | 2010|Current Employee - Senior Web Developer     |Working for about 5 years at Google                                                               |null|null|1              |1                 |4                   |1                         |1                 |1                     |__HIVE_DEFAULT_PARTITION__|6         |\n",
      "|24893|amazon |                | 2010|Former Employee - Product Manager           |Unfortunately the company does not invest in their employees and leadership is not positive.      |null|null|1              |1                 |4                   |1                         |1                 |1                     |__HIVE_DEFAULT_PARTITION__|7         |\n",
      "|24897|amazon |                | 2010|Former Employee - Cs MANAGER                |High potential to be a great place to work; but...                                                |null|null|1              |1                 |4                   |3                         |3                 |4                     |__HIVE_DEFAULT_PARTITION__|8         |\n",
      "|24909|amazon |                | 2010|Former Employee - Receiving                 |I would strongly advice against this place                                                        |null|null|1              |1                 |4                   |1                         |1                 |1                     |__HIVE_DEFAULT_PARTITION__|9         |\n",
      "|24916|amazon |                | 2010|Former Employee - Senior Technical          |Video On Demand; a horrible experience                                                            |null|null|1              |1                 |4                   |3                         |1                 |1                     |__HIVE_DEFAULT_PARTITION__|10        |\n",
      "|24918|amazon |                | 2010|Current Employee - Merchandising Specialist |Worst Place to Work Ever!!!                                                                       |null|null|1              |1                 |4                   |1                         |1                 |1                     |__HIVE_DEFAULT_PARTITION__|11        |\n",
      "|24919|amazon |                | 2010|Former Employee - Area Manager              |Not So Glamorous                                                                                  |null|null|1              |1                 |4                   |4                         |4                 |1                     |__HIVE_DEFAULT_PARTITION__|12        |\n",
      "|24926|amazon |                | 2010|Current Employee - Warehouse Associate      |no respect                                                                                        |null|null|1              |1                 |4                   |1                         |2                 |1                     |__HIVE_DEFAULT_PARTITION__|13        |\n",
      "|24928|amazon |                | 2010|Current Employee - Software Engineer        |Jeff Bezos is a genius and a visionary                                                            |null|null|1              |2                 |4                   |2                         |3                 |4                     |__HIVE_DEFAULT_PARTITION__|14        |\n",
      "|24935|amazon |                | 2010|Former Employee - Manager                   |If you decide to work here; ask in the interview what Top Grading is; and what its counterpart is.|null|null|1              |1                 |4                   |1                         |4                 |1                     |__HIVE_DEFAULT_PARTITION__|15        |\n",
      "|24941|amazon |                | 2010|Current Employee - Editor                   |Stay away from this place--toxic as hell                                                          |null|null|1              |1                 |4                   |2                         |2                 |1                     |__HIVE_DEFAULT_PARTITION__|16        |\n",
      "|24942|amazon |                | 2010|Current Employee - Technical Program Manager|Churn and burn                                                                                    |null|null|1              |1                 |4                   |2                         |2                 |1                     |__HIVE_DEFAULT_PARTITION__|17        |\n",
      "|24946|amazon |                | 2010|Former Employee - Marketing Manager         |No work / life balance                                                                            |null|null|1              |2                 |4                   |1                         |2                 |1                     |__HIVE_DEFAULT_PARTITION__|18        |\n",
      "|24953|amazon |                | 2010|Current Employee - Anonymous Employee       |Looking somewhere else                                                                            |null|null|1              |1                 |4                   |1                         |3                 |1                     |__HIVE_DEFAULT_PARTITION__|19        |\n",
      "|24959|amazon |                | 2010|Former Employee - Buyer                     |horrible experience (stay away from retail!)                                                      |null|null|1              |1                 |4                   |1                         |2                 |1                     |__HIVE_DEFAULT_PARTITION__|20        |\n",
      "+-----+-------+----------------+-----+--------------------------------------------+--------------------------------------------------------------------------------------------------+----+----+---------------+------------------+--------------------+--------------------------+------------------+----------------------+--------------------------+----------+\n",
      "only showing top 20 rows\n",
      "\n"
     ]
    }
   ],
   "source": [
    "\n",
    "from pyspark.sql.window import Window\n",
    "from pyspark.sql.functions import row_number\n",
    "windowSpec  = Window.partitionBy(\"year\").orderBy(\"overall_ratings\")\n",
    "\n",
    "df=review.withColumn(\"row_number\",row_number().over(windowSpec)) \\\n",
    "    .show(truncate=False)\n"
   ]
  },
  {
   "cell_type": "code",
   "execution_count": null,
   "id": "0d1bdd0d",
   "metadata": {},
   "outputs": [],
   "source": [
    "df.select(\"year\",\"company\",\"overall_ratings\").show()"
   ]
  },
  {
   "cell_type": "code",
   "execution_count": 26,
   "id": "e16cd868",
   "metadata": {},
   "outputs": [
    {
     "name": "stdout",
     "output_type": "stream",
     "text": [
      "+-----+---------+---------------+-----+--------------------+--------------------+----+----+---------------+------------------+--------------------+--------------------------+------------------+----------------------+-------+\n",
      "|index|  company|          state| year|           job_title|             summary|pros|cons|overall_ratings|work_balance_stars|culture_values_stars|carrer_opportunities_stars|comp_benefit_stars|senior_mangemnet_stars|country|\n",
      "+-----+---------+---------------+-----+--------------------+--------------------+----+----+---------------+------------------+--------------------+--------------------------+------------------+----------------------+-------+\n",
      "|66331|microsoft|        Vedbæk | 2013|Former Employee -...|Great opportuniti...|null|null|              3|                 4|                   2|                         5|                 4|                     3|Denmark|\n",
      "|66296|microsoft| Over Feldborg | 2013|Former Employee -...|awesome amazing w...|null|null|      Satisfied|                 5|                   5|                         5|                 5|                     5|Denmark|\n",
      "|66253|microsoft|    Copenhagen | 2013|Current Employee ...|    Specialist sales|null|null|      Satisfied|                 5|                   3|                         4|                 4|                     3|Denmark|\n",
      "|66098|microsoft|    Copenhagen | 2013|Former Employee -...|       Goood company|null|null|      Satisfied|                 3|                   4|                         3|                 4|                     3|Denmark|\n",
      "|65889|microsoft|    Copenhagen | 2014|Current Employee ...|In simple words i...|null|null|      Satisfied|                 4|                   4|                         4|                 4|                     5|Denmark|\n",
      "|65619|microsoft|    Copenhagen | 2014|Current Employee ...|Senior Developer ...|null|null|      Satisfied|                 4|                   4|                         3|                 4|                     2|Denmark|\n",
      "|65628|microsoft|    Copenhagen | 2014|Former Employee -...|Overall; outstand...|null|null|      Satisfied|                 4|                   4|                         5|                 4|                     4|Denmark|\n",
      "|65493|microsoft|    Copenhagen | 2015|Current Employee ...|Easy to grow; dif...|null|null|              3|                 4|                   3|                         2|                 3|                     3|Denmark|\n",
      "|65199|microsoft|      Hellerup | 2015|Former Employee -...|Best place I have...|null|null|      Satisfied|                 3|                   5|                         5|                 5|                     4|Denmark|\n",
      "|64763|microsoft|  Oddesund Syd | 2015|Former Employee -...|        wonder place|null|null|      Satisfied|                 4|                   4|                         2|                 1|                     4|Denmark|\n",
      "|64916|microsoft|    Copenhagen | 2015|Current Employee ...|    Microsoft review|null|null|      Satisfied|                 3|                   4|                         4|                 3|                     3|Denmark|\n",
      "|64198|microsoft|    Copenhagen | 2016|Current Employee ...|     Greaty company!|null|null|      Satisfied|                 4|                   5|                         5|                 5|                     5|Denmark|\n",
      "|35714| facebook|    Copenhagen | 2016|Former Employee -...|Great place to wo...|null|null|      Satisfied|                 4|                   2|                         4|                 5|                     2|Denmark|\n",
      "|62827|microsoft|Kongens Lyngby | 2017|Current Employee ...|I love working at...|null|null|      Satisfied|                 4|                   5|                         4|                 5|                     3|Denmark|\n",
      "|47820|    apple|    Copenhagen | 2017|Former Employee -...|        Good company|null|null|      Satisfied|                 4|                   5|                         5|                 4|                     5|Denmark|\n",
      "|63068|microsoft|    Copenhagen | 2017|Former Employee -...|Great; challengin...|null|null|      Satisfied|                 4|                   5|                         5|                 5|                     4|Denmark|\n",
      "|62884|microsoft|Kongens Lyngby | 2017|Current Employee ...|    Superb Employer.|null|null|      Satisfied|                 4|                   5|                         4|                 5|                     4|Denmark|\n",
      "|62669|microsoft|    Copenhagen | 2018|Former Employee -...|Typical American ...|null|null|              3|                 3|                   3|                         3|                 5|                     2|Denmark|\n",
      "|62447|microsoft|    Copenhagen | 2018|Former Employee -...|The most lousy pl...|null|null|   Unstatisfied|                 1|                   1|                         1|                 1|                     1|Denmark|\n",
      "|62323|microsoft|    Copenhagen | 2018|Former Employee -...|Bug fixing job; s...|null|null|   Unstatisfied|                 3|                   1|                         2|                 2|                     2|Denmark|\n",
      "+-----+---------+---------------+-----+--------------------+--------------------+----+----+---------------+------------------+--------------------+--------------------------+------------------+----------------------+-------+\n",
      "only showing top 20 rows\n",
      "\n"
     ]
    }
   ],
   "source": [
    "#Classification of satisfied or unsatisfied employees?\n",
    "from pyspark.sql.functions import when\n",
    "df2 = review.withColumn(\"overall_ratings\", when(review.overall_ratings > \"3\",\"Satisfied\")\n",
    "                                 .when(review.overall_ratings < \"3\",\"Unstatisfied\")\n",
    "                                 .when(review.overall_ratings.isNull() ,\"\")\n",
    "                                 .otherwise(review.overall_ratings))\n",
    "df2.show()"
   ]
  },
  {
   "cell_type": "code",
   "execution_count": 36,
   "id": "ce8ca497",
   "metadata": {},
   "outputs": [
    {
     "name": "stdout",
     "output_type": "stream",
     "text": [
      "+---------+\n",
      "|  company|\n",
      "+---------+\n",
      "|microsoft|\n",
      "|microsoft|\n",
      "|microsoft|\n",
      "|microsoft|\n",
      "|    apple|\n",
      "|   google|\n",
      "|microsoft|\n",
      "|microsoft|\n",
      "|    apple|\n",
      "|   amazon|\n",
      "+---------+\n",
      "only showing top 10 rows\n",
      "\n"
     ]
    }
   ],
   "source": [
    "df2.select('company').show(10)"
   ]
  },
  {
   "cell_type": "code",
   "execution_count": 8,
   "id": "57d508e9",
   "metadata": {},
   "outputs": [
    {
     "name": "stdout",
     "output_type": "stream",
     "text": [
      "+--------------------+---------+------------+\n",
      "|             company|satisfied|unstatisfied|\n",
      "+--------------------+---------+------------+\n",
      "|The Cloud team do...|        1|           0|\n",
      "|           microsoft|    15983|        1947|\n",
      "|              amazon|    21218|        5212|\n",
      "|             netflix|      578|         232|\n",
      "|               apple|    11652|        1298|\n",
      "|            facebook|     1494|          96|\n",
      "|              google|     1899|         100|\n",
      "+--------------------+---------+------------+\n",
      "\n"
     ]
    }
   ],
   "source": [
    "spark.sql(\"\"\"\n",
    "       select company , sum(satisfied) as satisfied,sum(unsatisfied) as unstatisfied from \n",
    "       ( select company, (case when overall_ratings>=3 then 1 else 0 end) as satisfied,\n",
    "       (case when overall_ratings<3  then 1 else 0 end)  as unsatisfied from review\n",
    " )a group by a.company\n",
    "\"\"\").show()"
   ]
  },
  {
   "cell_type": "code",
   "execution_count": 9,
   "id": "95f753a0",
   "metadata": {},
   "outputs": [
    {
     "name": "stdout",
     "output_type": "stream",
     "text": [
      "+---------+----------------------+\n",
      "|  company|count(overall_ratings)|\n",
      "+---------+----------------------+\n",
      "|microsoft|                  5063|\n",
      "|   amazon|                  7553|\n",
      "|  netflix|                   240|\n",
      "|    apple|                  4805|\n",
      "| facebook|                  1151|\n",
      "|   google|                  1050|\n",
      "+---------+----------------------+\n",
      "\n"
     ]
    }
   ],
   "source": [
    "spark.sql(\"\"\"\n",
    "   select distinct company, count(overall_ratings) from review where overall_ratings=5 group by company \n",
    "\"\"\").show(6)"
   ]
  },
  {
   "cell_type": "code",
   "execution_count": 6,
   "id": "513fb5fa",
   "metadata": {},
   "outputs": [
    {
     "name": "stdout",
     "output_type": "stream",
     "text": [
      "+--------------------+\n",
      "|             company|\n",
      "+--------------------+\n",
      "|The Cloud team do...|\n",
      "|           microsoft|\n",
      "|              amazon|\n",
      "|             netflix|\n",
      "|               apple|\n",
      "|            facebook|\n",
      "|              google|\n",
      "+--------------------+\n",
      "\n"
     ]
    }
   ],
   "source": [
    "spark.sql(\"\"\"\n",
    "  \n",
    "   select distinct company from review  \n",
    "\"\"\").show()"
   ]
  },
  {
   "cell_type": "code",
   "execution_count": 9,
   "id": "7131ffee",
   "metadata": {},
   "outputs": [
    {
     "name": "stdout",
     "output_type": "stream",
     "text": [
      "+---------+--------------------+\n",
      "|  company|             summary|\n",
      "+---------+--------------------+\n",
      "|microsoft|Busy with increas...|\n",
      "| facebook|A workplace with ...|\n",
      "|microsoft|One of the best c...|\n",
      "|    apple|high salary and g...|\n",
      "|    apple|        Art director|\n",
      "|    apple|       customer care|\n",
      "|    apple|              genius|\n",
      "|microsoft|         Vendor role|\n",
      "|microsoft|              Intern|\n",
      "|    apple|   Marketing Manager|\n",
      "+---------+--------------------+\n",
      "only showing top 10 rows\n",
      "\n"
     ]
    }
   ],
   "source": [
    "spark.sql(\"\"\"\n",
    "   select company,summary from review where  overall_ratings=5\n",
    "\"\"\").show(10)"
   ]
  },
  {
   "cell_type": "code",
   "execution_count": 12,
   "id": "4f11393b",
   "metadata": {},
   "outputs": [
    {
     "name": "stdout",
     "output_type": "stream",
     "text": [
      "+--------------------+\n",
      "|             summary|\n",
      "+--------------------+\n",
      "|       Not Favorable|\n",
      "|                 TSS|\n",
      "|senior purchase e...|\n",
      "|Microsoft Advance...|\n",
      "|          Consultant|\n",
      "|Think before you ...|\n",
      "| Horrible Management|\n",
      "|     Microsoft Japan|\n",
      "|              Amazon|\n",
      "|   Marketing Manager|\n",
      "|            Ad Rater|\n",
      "|          Sr Manager|\n",
      "|Data Center Techn...|\n",
      "|Interesting but b...|\n",
      "|Microsoft changed...|\n",
      "| Soltuion Specialist|\n",
      "|Really depends on...|\n",
      "|        Good company|\n",
      "|Don't work for th...|\n",
      "|Microsoft Middle ...|\n",
      "+--------------------+\n",
      "only showing top 20 rows\n",
      "\n"
     ]
    }
   ],
   "source": [
    "df2=spark.sql(\"\"\"\n",
    "   select summary from review where  overall_ratings<3\n",
    "\"\"\").show()"
   ]
  },
  {
   "cell_type": "code",
   "execution_count": null,
   "id": "fd52bbf9",
   "metadata": {},
   "outputs": [],
   "source": []
  }
 ],
 "metadata": {
  "kernelspec": {
   "display_name": "Pyspark 3",
   "language": "python",
   "name": "pyspark3"
  },
  "language_info": {
   "codemirror_mode": {
    "name": "ipython",
    "version": 3
   },
   "file_extension": ".py",
   "mimetype": "text/x-python",
   "name": "python",
   "nbconvert_exporter": "python",
   "pygments_lexer": "ipython3",
   "version": "3.6.12"
  }
 },
 "nbformat": 4,
 "nbformat_minor": 5
}
